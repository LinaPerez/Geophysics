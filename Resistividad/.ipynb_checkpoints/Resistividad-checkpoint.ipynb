{
 "metadata": {
  "name": "",
  "signature": "sha256:928e290cb2439c3dcc9c07664e720e39f2a3168ccb8ef8ad791cf38d74b15a6c"
 },
 "nbformat": 3,
 "nbformat_minor": 0,
 "worksheets": [
  {
   "cells": [
    {
     "cell_type": "code",
     "collapsed": false,
     "input": [
      "%pylab inline\n",
      "import matplotlib.pyplot as plt\n",
      "import Image\n",
      "import numpy as np"
     ],
     "language": "python",
     "metadata": {},
     "outputs": [
      {
       "output_type": "stream",
       "stream": "stdout",
       "text": [
        "Populating the interactive namespace from numpy and matplotlib\n"
       ]
      }
     ],
     "prompt_number": 2
    },
    {
     "cell_type": "code",
     "collapsed": false,
     "input": [
      "L = 30\n",
      "l = 2\n"
     ],
     "language": "python",
     "metadata": {},
     "outputs": [],
     "prompt_number": 3
    },
    {
     "cell_type": "heading",
     "level": 3,
     "metadata": {},
     "source": [
      "datos = np.loadtxt('ne"
     ]
    }
   ],
   "metadata": {}
  }
 ]
}