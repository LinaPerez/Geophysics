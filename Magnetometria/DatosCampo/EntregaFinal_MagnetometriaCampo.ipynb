{
 "metadata": {
  "name": "",
  "signature": "sha256:4492d9ac4f90633d02400ecd7424546d2eb3ba1da8b8d9ea061502ae25fc72ef"
 },
 "nbformat": 3,
 "nbformat_minor": 0,
 "worksheets": [
  {
   "cells": [
    {
     "cell_type": "heading",
     "level": 1,
     "metadata": {},
     "source": [
      "Magnetometria"
     ]
    },
    {
     "cell_type": "heading",
     "level": 6,
     "metadata": {},
     "source": [
      "por: Lina P\u00e9rez \u00c1ngel\n",
      "    "
     ]
    },
    {
     "cell_type": "markdown",
     "metadata": {},
     "source": [
      "En este archivo "
     ]
    }
   ],
   "metadata": {}
  }
 ]
}