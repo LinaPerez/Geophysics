{
 "metadata": {
  "name": "",
  "signature": "sha256:1d7d26ca96b17c716783c3c28db1991c13e8334d159f6c557b5c2713db0e72fc"
 },
 "nbformat": 3,
 "nbformat_minor": 0,
 "worksheets": [
  {
   "cells": [
    {
     "cell_type": "heading",
     "level": 1,
     "metadata": {},
     "source": [
      "Magnetometria"
     ]
    },
    {
     "cell_type": "heading",
     "level": 6,
     "metadata": {},
     "source": [
      "por: Lina P\u00e9rez \u00c1ngel\n",
      "    "
     ]
    },
    {
     "cell_type": "markdown",
     "metadata": {},
     "source": [
      "En este archivo se realizar\u00e1 las gr\u00e1ficas e interpretaciones de los datos de Magnetometr\u00eda tomados en Campo durante la semana del 20 al 27 de Septiembre del 2014. Este campo fu\u00e9 realizado entre Mariquita - Armero-Guayabal - Armero Viejo - Piedras en el departamento del Tolima. "
     ]
    },
    {
     "cell_type": "code",
     "collapsed": false,
     "input": [],
     "language": "python",
     "metadata": {},
     "outputs": []
    }
   ],
   "metadata": {}
  }
 ]
}